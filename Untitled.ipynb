{
 "cells": [
  {
   "cell_type": "code",
   "execution_count": 293,
   "id": "6f21a94c",
   "metadata": {},
   "outputs": [],
   "source": [
    "import pandas as pd\n",
    "import numpy as np\n",
    "import re\n",
    "import matplotlib.pyplot as plt\n",
    "from sklearn.feature_selection import mutual_info_classif\n",
    "from sklearn.model_selection import train_test_split\n",
    "from sklearn.tree import DecisionTreeClassifier\n",
    "from sklearn import metrics\n",
    "from sklearn.metrics import plot_confusion_matrix\n",
    "from sklearn.ensemble import RandomForestClassifier\n",
    "from sklearn.datasets import make_classification\n",
    "from sklearn.metrics import confusion_matrix"
   ]
  },
  {
   "cell_type": "code",
   "execution_count": 294,
   "id": "ea778308",
   "metadata": {},
   "outputs": [
    {
     "data": {
      "text/html": [
       "<div>\n",
       "<style scoped>\n",
       "    .dataframe tbody tr th:only-of-type {\n",
       "        vertical-align: middle;\n",
       "    }\n",
       "\n",
       "    .dataframe tbody tr th {\n",
       "        vertical-align: top;\n",
       "    }\n",
       "\n",
       "    .dataframe thead th {\n",
       "        text-align: right;\n",
       "    }\n",
       "</style>\n",
       "<table border=\"1\" class=\"dataframe\">\n",
       "  <thead>\n",
       "    <tr style=\"text-align: right;\">\n",
       "      <th></th>\n",
       "      <th>type</th>\n",
       "      <th>title</th>\n",
       "      <th>cast</th>\n",
       "      <th>country</th>\n",
       "      <th>release_year</th>\n",
       "      <th>listed_in</th>\n",
       "      <th>description</th>\n",
       "    </tr>\n",
       "  </thead>\n",
       "  <tbody>\n",
       "    <tr>\n",
       "      <th>0</th>\n",
       "      <td>Movie</td>\n",
       "      <td>Dick Johnson Is Dead</td>\n",
       "      <td>NaN</td>\n",
       "      <td>United States</td>\n",
       "      <td>2020</td>\n",
       "      <td>Documentaries</td>\n",
       "      <td>As her father nears the end of his life, filmm...</td>\n",
       "    </tr>\n",
       "    <tr>\n",
       "      <th>1</th>\n",
       "      <td>TV Show</td>\n",
       "      <td>Blood &amp; Water</td>\n",
       "      <td>Ama Qamata, Khosi Ngema, Gail Mabalane, Thaban...</td>\n",
       "      <td>South Africa</td>\n",
       "      <td>2021</td>\n",
       "      <td>International TV Shows, TV Dramas, TV Mysteries</td>\n",
       "      <td>After crossing paths at a party, a Cape Town t...</td>\n",
       "    </tr>\n",
       "    <tr>\n",
       "      <th>2</th>\n",
       "      <td>TV Show</td>\n",
       "      <td>Ganglands</td>\n",
       "      <td>Sami Bouajila, Tracy Gotoas, Samuel Jouy, Nabi...</td>\n",
       "      <td>NaN</td>\n",
       "      <td>2021</td>\n",
       "      <td>Crime TV Shows, International TV Shows, TV Act...</td>\n",
       "      <td>To protect his family from a powerful drug lor...</td>\n",
       "    </tr>\n",
       "    <tr>\n",
       "      <th>3</th>\n",
       "      <td>TV Show</td>\n",
       "      <td>Jailbirds New Orleans</td>\n",
       "      <td>NaN</td>\n",
       "      <td>NaN</td>\n",
       "      <td>2021</td>\n",
       "      <td>Docuseries, Reality TV</td>\n",
       "      <td>Feuds, flirtations and toilet talk go down amo...</td>\n",
       "    </tr>\n",
       "    <tr>\n",
       "      <th>4</th>\n",
       "      <td>TV Show</td>\n",
       "      <td>Kota Factory</td>\n",
       "      <td>Mayur More, Jitendra Kumar, Ranjan Raj, Alam K...</td>\n",
       "      <td>India</td>\n",
       "      <td>2021</td>\n",
       "      <td>International TV Shows, Romantic TV Shows, TV ...</td>\n",
       "      <td>In a city of coaching centers known to train I...</td>\n",
       "    </tr>\n",
       "  </tbody>\n",
       "</table>\n",
       "</div>"
      ],
      "text/plain": [
       "      type                  title  \\\n",
       "0    Movie   Dick Johnson Is Dead   \n",
       "1  TV Show          Blood & Water   \n",
       "2  TV Show              Ganglands   \n",
       "3  TV Show  Jailbirds New Orleans   \n",
       "4  TV Show           Kota Factory   \n",
       "\n",
       "                                                cast        country  \\\n",
       "0                                                NaN  United States   \n",
       "1  Ama Qamata, Khosi Ngema, Gail Mabalane, Thaban...   South Africa   \n",
       "2  Sami Bouajila, Tracy Gotoas, Samuel Jouy, Nabi...            NaN   \n",
       "3                                                NaN            NaN   \n",
       "4  Mayur More, Jitendra Kumar, Ranjan Raj, Alam K...          India   \n",
       "\n",
       "   release_year                                          listed_in  \\\n",
       "0          2020                                      Documentaries   \n",
       "1          2021    International TV Shows, TV Dramas, TV Mysteries   \n",
       "2          2021  Crime TV Shows, International TV Shows, TV Act...   \n",
       "3          2021                             Docuseries, Reality TV   \n",
       "4          2021  International TV Shows, Romantic TV Shows, TV ...   \n",
       "\n",
       "                                         description  \n",
       "0  As her father nears the end of his life, filmm...  \n",
       "1  After crossing paths at a party, a Cape Town t...  \n",
       "2  To protect his family from a powerful drug lor...  \n",
       "3  Feuds, flirtations and toilet talk go down amo...  \n",
       "4  In a city of coaching centers known to train I...  "
      ]
     },
     "execution_count": 294,
     "metadata": {},
     "output_type": "execute_result"
    }
   ],
   "source": [
    "moviesTvshows = pd.read_csv('dataset.csv')\n",
    "moviesTvshows.head()"
   ]
  },
  {
   "cell_type": "markdown",
   "id": "ac2980f2",
   "metadata": {},
   "source": [
    "<div style=\"direction:rtl\"> فاز صفر </div>\n"
   ]
  },
  {
   "cell_type": "markdown",
   "id": "c8e0e9e5",
   "metadata": {},
   "source": [
    "<div style=\"direction:rtl\"> 1 </div>\n"
   ]
  },
  {
   "cell_type": "code",
   "execution_count": 295,
   "id": "c938ed06",
   "metadata": {
    "scrolled": false
   },
   "outputs": [
    {
     "name": "stdout",
     "output_type": "stream",
     "text": [
      "<class 'pandas.core.frame.DataFrame'>\n",
      "RangeIndex: 11059 entries, 0 to 11058\n",
      "Data columns (total 7 columns):\n",
      " #   Column        Non-Null Count  Dtype \n",
      "---  ------        --------------  ----- \n",
      " 0   type          11059 non-null  object\n",
      " 1   title         11059 non-null  object\n",
      " 2   cast          9694 non-null   object\n",
      " 3   country       8364 non-null   object\n",
      " 4   release_year  11059 non-null  int64 \n",
      " 5   listed_in     11059 non-null  object\n",
      " 6   description   11059 non-null  object\n",
      "dtypes: int64(1), object(6)\n",
      "memory usage: 604.9+ KB\n"
     ]
    }
   ],
   "source": [
    "moviesTvshows.info()"
   ]
  },
  {
   "cell_type": "code",
   "execution_count": 296,
   "id": "19d083cc",
   "metadata": {
    "scrolled": true
   },
   "outputs": [
    {
     "data": {
      "text/html": [
       "<div>\n",
       "<style scoped>\n",
       "    .dataframe tbody tr th:only-of-type {\n",
       "        vertical-align: middle;\n",
       "    }\n",
       "\n",
       "    .dataframe tbody tr th {\n",
       "        vertical-align: top;\n",
       "    }\n",
       "\n",
       "    .dataframe thead th {\n",
       "        text-align: right;\n",
       "    }\n",
       "</style>\n",
       "<table border=\"1\" class=\"dataframe\">\n",
       "  <thead>\n",
       "    <tr style=\"text-align: right;\">\n",
       "      <th></th>\n",
       "      <th>release_year</th>\n",
       "    </tr>\n",
       "  </thead>\n",
       "  <tbody>\n",
       "    <tr>\n",
       "      <th>count</th>\n",
       "      <td>11059.000000</td>\n",
       "    </tr>\n",
       "    <tr>\n",
       "      <th>mean</th>\n",
       "      <td>2014.209603</td>\n",
       "    </tr>\n",
       "    <tr>\n",
       "      <th>std</th>\n",
       "      <td>8.959517</td>\n",
       "    </tr>\n",
       "    <tr>\n",
       "      <th>min</th>\n",
       "      <td>1925.000000</td>\n",
       "    </tr>\n",
       "    <tr>\n",
       "      <th>25%</th>\n",
       "      <td>2013.000000</td>\n",
       "    </tr>\n",
       "    <tr>\n",
       "      <th>50%</th>\n",
       "      <td>2017.000000</td>\n",
       "    </tr>\n",
       "    <tr>\n",
       "      <th>75%</th>\n",
       "      <td>2019.000000</td>\n",
       "    </tr>\n",
       "    <tr>\n",
       "      <th>max</th>\n",
       "      <td>2021.000000</td>\n",
       "    </tr>\n",
       "  </tbody>\n",
       "</table>\n",
       "</div>"
      ],
      "text/plain": [
       "       release_year\n",
       "count  11059.000000\n",
       "mean    2014.209603\n",
       "std        8.959517\n",
       "min     1925.000000\n",
       "25%     2013.000000\n",
       "50%     2017.000000\n",
       "75%     2019.000000\n",
       "max     2021.000000"
      ]
     },
     "execution_count": 296,
     "metadata": {},
     "output_type": "execute_result"
    }
   ],
   "source": [
    "moviesTvshows.describe()"
   ]
  },
  {
   "cell_type": "markdown",
   "id": "9e5059cf",
   "metadata": {},
   "source": [
    "<div style=\"direction:rtl\"> 2 </div>"
   ]
  },
  {
   "cell_type": "code",
   "execution_count": 297,
   "id": "b36c20de",
   "metadata": {},
   "outputs": [
    {
     "data": {
      "text/html": [
       "<div>\n",
       "<style scoped>\n",
       "    .dataframe tbody tr th:only-of-type {\n",
       "        vertical-align: middle;\n",
       "    }\n",
       "\n",
       "    .dataframe tbody tr th {\n",
       "        vertical-align: top;\n",
       "    }\n",
       "\n",
       "    .dataframe thead th {\n",
       "        text-align: right;\n",
       "    }\n",
       "</style>\n",
       "<table border=\"1\" class=\"dataframe\">\n",
       "  <thead>\n",
       "    <tr style=\"text-align: right;\">\n",
       "      <th></th>\n",
       "      <th>percent_missing</th>\n",
       "    </tr>\n",
       "  </thead>\n",
       "  <tbody>\n",
       "    <tr>\n",
       "      <th>type</th>\n",
       "      <td>0.000000</td>\n",
       "    </tr>\n",
       "    <tr>\n",
       "      <th>title</th>\n",
       "      <td>0.000000</td>\n",
       "    </tr>\n",
       "    <tr>\n",
       "      <th>cast</th>\n",
       "      <td>12.342888</td>\n",
       "    </tr>\n",
       "    <tr>\n",
       "      <th>country</th>\n",
       "      <td>24.369292</td>\n",
       "    </tr>\n",
       "    <tr>\n",
       "      <th>release_year</th>\n",
       "      <td>0.000000</td>\n",
       "    </tr>\n",
       "    <tr>\n",
       "      <th>listed_in</th>\n",
       "      <td>0.000000</td>\n",
       "    </tr>\n",
       "    <tr>\n",
       "      <th>description</th>\n",
       "      <td>0.000000</td>\n",
       "    </tr>\n",
       "  </tbody>\n",
       "</table>\n",
       "</div>"
      ],
      "text/plain": [
       "              percent_missing\n",
       "type                 0.000000\n",
       "title                0.000000\n",
       "cast                12.342888\n",
       "country             24.369292\n",
       "release_year         0.000000\n",
       "listed_in            0.000000\n",
       "description          0.000000"
      ]
     },
     "execution_count": 297,
     "metadata": {},
     "output_type": "execute_result"
    }
   ],
   "source": [
    "percent_missing = moviesTvshows.isnull().sum() * 100 / len(moviesTvshows)\n",
    "missing_value_df = pd.DataFrame({'percent_missing': percent_missing})\n",
    "missing_value_df"
   ]
  },
  {
   "cell_type": "markdown",
   "id": "933d3550",
   "metadata": {},
   "source": [
    "<div style=\"direction:rtl\"> فاز یک </div>\n"
   ]
  },
  {
   "cell_type": "markdown",
   "id": "2a114171",
   "metadata": {},
   "source": [
    "<div style=\"direction:rtl\"> 1 </div>\n"
   ]
  },
  {
   "cell_type": "markdown",
   "id": "eadee3d2",
   "metadata": {},
   "source": [
    "\n",
    "میشود آن سطر ها را حذف کرد\n",
    "یا\n",
    "میتوان آن هارا با\n",
    "\n",
    "mode\n",
    "\n",
    "جایگزین کنیم\n",
    "."
   ]
  },
  {
   "cell_type": "code",
   "execution_count": 298,
   "id": "308d3dd9",
   "metadata": {},
   "outputs": [],
   "source": [
    "for i in range (0, len(moviesTvshows.columns)):\n",
    "    moviesTvshows.iloc[:, i].fillna(moviesTvshows.iloc[:, i].mode()[0], inplace=True)"
   ]
  },
  {
   "cell_type": "code",
   "execution_count": 299,
   "id": "94fb622e",
   "metadata": {},
   "outputs": [
    {
     "name": "stdout",
     "output_type": "stream",
     "text": [
      "<class 'pandas.core.frame.DataFrame'>\n",
      "RangeIndex: 11059 entries, 0 to 11058\n",
      "Data columns (total 7 columns):\n",
      " #   Column        Non-Null Count  Dtype \n",
      "---  ------        --------------  ----- \n",
      " 0   type          11059 non-null  object\n",
      " 1   title         11059 non-null  object\n",
      " 2   cast          11059 non-null  object\n",
      " 3   country       11059 non-null  object\n",
      " 4   release_year  11059 non-null  int64 \n",
      " 5   listed_in     11059 non-null  object\n",
      " 6   description   11059 non-null  object\n",
      "dtypes: int64(1), object(6)\n",
      "memory usage: 604.9+ KB\n"
     ]
    }
   ],
   "source": [
    "moviesTvshows.info()"
   ]
  },
  {
   "cell_type": "markdown",
   "id": "d3379fae",
   "metadata": {},
   "source": [
    "**2**"
   ]
  },
  {
   "cell_type": "markdown",
   "id": "e30eb5e0",
   "metadata": {},
   "source": [
    "normalization:\n",
    "دیتا پیوسته عددی رو جوری اسکیل کنیم که بین صفر و یک باشند\n",
    "\n",
    "standardization:\n",
    "دیتا پیوسته عددی رو جوری اسکیل کنیم که میانگین اش صفر باشد وانحراف معیارش یک باشد \n",
    "از هیچ کدام استفاده نمیکنیم چون\n",
    "\n",
    "tree based \n",
    "\n",
    "هستند."
   ]
  },
  {
   "cell_type": "markdown",
   "id": "a75553f4",
   "metadata": {},
   "source": [
    "**3**\n",
    "\n",
    "lable encoding:\n",
    "برایشان معادل عددی برای هر دسته قرار میدهد\n",
    "\n",
    "one hot encoding:\n",
    "هر دسته را تبدیل به یک فیچر میکند و با توجه به اینکه اون سطر این فیچر را دارد یا خیر صفر یا یک جایگرین میکند\n",
    "\n",
    "از روش\n",
    "\n",
    "lable encoding\n",
    "\n",
    "استفاده کردم چون در وان هات اگر تعداد دسته ها زیاد باشد، زیادی بزرگ میشود."
   ]
  },
  {
   "cell_type": "code",
   "execution_count": 300,
   "id": "fe14b03d",
   "metadata": {},
   "outputs": [],
   "source": [
    "from sklearn import preprocessing\n",
    " \n",
    "label_encoder = preprocessing.LabelEncoder()\n",
    "moviesTvshows.iloc[:,0] = label_encoder.fit_transform(moviesTvshows.iloc[:,0])"
   ]
  },
  {
   "cell_type": "code",
   "execution_count": 301,
   "id": "99c28bec",
   "metadata": {},
   "outputs": [
    {
     "data": {
      "text/html": [
       "<div>\n",
       "<style scoped>\n",
       "    .dataframe tbody tr th:only-of-type {\n",
       "        vertical-align: middle;\n",
       "    }\n",
       "\n",
       "    .dataframe tbody tr th {\n",
       "        vertical-align: top;\n",
       "    }\n",
       "\n",
       "    .dataframe thead th {\n",
       "        text-align: right;\n",
       "    }\n",
       "</style>\n",
       "<table border=\"1\" class=\"dataframe\">\n",
       "  <thead>\n",
       "    <tr style=\"text-align: right;\">\n",
       "      <th></th>\n",
       "      <th>type</th>\n",
       "      <th>title</th>\n",
       "      <th>cast</th>\n",
       "      <th>country</th>\n",
       "      <th>release_year</th>\n",
       "      <th>listed_in</th>\n",
       "      <th>description</th>\n",
       "    </tr>\n",
       "  </thead>\n",
       "  <tbody>\n",
       "    <tr>\n",
       "      <th>0</th>\n",
       "      <td>0</td>\n",
       "      <td>Dick Johnson Is Dead</td>\n",
       "      <td>David Attenborough</td>\n",
       "      <td>United States</td>\n",
       "      <td>2020</td>\n",
       "      <td>Documentaries</td>\n",
       "      <td>As her father nears the end of his life, filmm...</td>\n",
       "    </tr>\n",
       "    <tr>\n",
       "      <th>1</th>\n",
       "      <td>1</td>\n",
       "      <td>Blood &amp; Water</td>\n",
       "      <td>Ama Qamata, Khosi Ngema, Gail Mabalane, Thaban...</td>\n",
       "      <td>South Africa</td>\n",
       "      <td>2021</td>\n",
       "      <td>International TV Shows, TV Dramas, TV Mysteries</td>\n",
       "      <td>After crossing paths at a party, a Cape Town t...</td>\n",
       "    </tr>\n",
       "    <tr>\n",
       "      <th>2</th>\n",
       "      <td>1</td>\n",
       "      <td>Ganglands</td>\n",
       "      <td>Sami Bouajila, Tracy Gotoas, Samuel Jouy, Nabi...</td>\n",
       "      <td>United States</td>\n",
       "      <td>2021</td>\n",
       "      <td>Crime TV Shows, International TV Shows, TV Act...</td>\n",
       "      <td>To protect his family from a powerful drug lor...</td>\n",
       "    </tr>\n",
       "    <tr>\n",
       "      <th>3</th>\n",
       "      <td>1</td>\n",
       "      <td>Jailbirds New Orleans</td>\n",
       "      <td>David Attenborough</td>\n",
       "      <td>United States</td>\n",
       "      <td>2021</td>\n",
       "      <td>Docuseries, Reality TV</td>\n",
       "      <td>Feuds, flirtations and toilet talk go down amo...</td>\n",
       "    </tr>\n",
       "    <tr>\n",
       "      <th>4</th>\n",
       "      <td>1</td>\n",
       "      <td>Kota Factory</td>\n",
       "      <td>Mayur More, Jitendra Kumar, Ranjan Raj, Alam K...</td>\n",
       "      <td>India</td>\n",
       "      <td>2021</td>\n",
       "      <td>International TV Shows, Romantic TV Shows, TV ...</td>\n",
       "      <td>In a city of coaching centers known to train I...</td>\n",
       "    </tr>\n",
       "  </tbody>\n",
       "</table>\n",
       "</div>"
      ],
      "text/plain": [
       "   type                  title  \\\n",
       "0     0   Dick Johnson Is Dead   \n",
       "1     1          Blood & Water   \n",
       "2     1              Ganglands   \n",
       "3     1  Jailbirds New Orleans   \n",
       "4     1           Kota Factory   \n",
       "\n",
       "                                                cast        country  \\\n",
       "0                                 David Attenborough  United States   \n",
       "1  Ama Qamata, Khosi Ngema, Gail Mabalane, Thaban...   South Africa   \n",
       "2  Sami Bouajila, Tracy Gotoas, Samuel Jouy, Nabi...  United States   \n",
       "3                                 David Attenborough  United States   \n",
       "4  Mayur More, Jitendra Kumar, Ranjan Raj, Alam K...          India   \n",
       "\n",
       "   release_year                                          listed_in  \\\n",
       "0          2020                                      Documentaries   \n",
       "1          2021    International TV Shows, TV Dramas, TV Mysteries   \n",
       "2          2021  Crime TV Shows, International TV Shows, TV Act...   \n",
       "3          2021                             Docuseries, Reality TV   \n",
       "4          2021  International TV Shows, Romantic TV Shows, TV ...   \n",
       "\n",
       "                                         description  \n",
       "0  As her father nears the end of his life, filmm...  \n",
       "1  After crossing paths at a party, a Cape Town t...  \n",
       "2  To protect his family from a powerful drug lor...  \n",
       "3  Feuds, flirtations and toilet talk go down amo...  \n",
       "4  In a city of coaching centers known to train I...  "
      ]
     },
     "execution_count": 301,
     "metadata": {},
     "output_type": "execute_result"
    }
   ],
   "source": [
    "moviesTvshows.head()"
   ]
  },
  {
   "cell_type": "markdown",
   "id": "e1871cab",
   "metadata": {},
   "source": [
    "**4**\n",
    "\n",
    "\n",
    "ستون لیستد این را به سه ستون ژانر تبدیل کردیم و آن هایی که سه ژانر نداشتند مقدار نال گرفتند\n",
    "\n",
    "روش دیگر هم اینکه میتوانیم برای هر مقداری یک سطر جدا به دیتا ست اضافه کنیم."
   ]
  },
  {
   "cell_type": "code",
   "execution_count": 302,
   "id": "0ab60689",
   "metadata": {
    "scrolled": false
   },
   "outputs": [
    {
     "data": {
      "text/html": [
       "<div>\n",
       "<style scoped>\n",
       "    .dataframe tbody tr th:only-of-type {\n",
       "        vertical-align: middle;\n",
       "    }\n",
       "\n",
       "    .dataframe tbody tr th {\n",
       "        vertical-align: top;\n",
       "    }\n",
       "\n",
       "    .dataframe thead th {\n",
       "        text-align: right;\n",
       "    }\n",
       "</style>\n",
       "<table border=\"1\" class=\"dataframe\">\n",
       "  <thead>\n",
       "    <tr style=\"text-align: right;\">\n",
       "      <th></th>\n",
       "      <th>type</th>\n",
       "      <th>title</th>\n",
       "      <th>cast</th>\n",
       "      <th>country</th>\n",
       "      <th>release_year</th>\n",
       "      <th>description</th>\n",
       "      <th>genre1</th>\n",
       "      <th>genre2</th>\n",
       "      <th>genre3</th>\n",
       "    </tr>\n",
       "  </thead>\n",
       "  <tbody>\n",
       "    <tr>\n",
       "      <th>0</th>\n",
       "      <td>0</td>\n",
       "      <td>Dick Johnson Is Dead</td>\n",
       "      <td>David Attenborough</td>\n",
       "      <td>United States</td>\n",
       "      <td>2020</td>\n",
       "      <td>As her father nears the end of his life, filmm...</td>\n",
       "      <td>Documentaries</td>\n",
       "      <td>None</td>\n",
       "      <td>None</td>\n",
       "    </tr>\n",
       "    <tr>\n",
       "      <th>1</th>\n",
       "      <td>1</td>\n",
       "      <td>Blood &amp; Water</td>\n",
       "      <td>Ama Qamata, Khosi Ngema, Gail Mabalane, Thaban...</td>\n",
       "      <td>South Africa</td>\n",
       "      <td>2021</td>\n",
       "      <td>After crossing paths at a party, a Cape Town t...</td>\n",
       "      <td>International TV Shows</td>\n",
       "      <td>TV Dramas</td>\n",
       "      <td>TV Mysteries</td>\n",
       "    </tr>\n",
       "    <tr>\n",
       "      <th>2</th>\n",
       "      <td>1</td>\n",
       "      <td>Ganglands</td>\n",
       "      <td>Sami Bouajila, Tracy Gotoas, Samuel Jouy, Nabi...</td>\n",
       "      <td>United States</td>\n",
       "      <td>2021</td>\n",
       "      <td>To protect his family from a powerful drug lor...</td>\n",
       "      <td>Crime TV Shows</td>\n",
       "      <td>International TV Shows</td>\n",
       "      <td>TV Action &amp; Adventure</td>\n",
       "    </tr>\n",
       "    <tr>\n",
       "      <th>3</th>\n",
       "      <td>1</td>\n",
       "      <td>Jailbirds New Orleans</td>\n",
       "      <td>David Attenborough</td>\n",
       "      <td>United States</td>\n",
       "      <td>2021</td>\n",
       "      <td>Feuds, flirtations and toilet talk go down amo...</td>\n",
       "      <td>Docuseries</td>\n",
       "      <td>Reality TV</td>\n",
       "      <td>None</td>\n",
       "    </tr>\n",
       "    <tr>\n",
       "      <th>4</th>\n",
       "      <td>1</td>\n",
       "      <td>Kota Factory</td>\n",
       "      <td>Mayur More, Jitendra Kumar, Ranjan Raj, Alam K...</td>\n",
       "      <td>India</td>\n",
       "      <td>2021</td>\n",
       "      <td>In a city of coaching centers known to train I...</td>\n",
       "      <td>International TV Shows</td>\n",
       "      <td>Romantic TV Shows</td>\n",
       "      <td>TV Comedies</td>\n",
       "    </tr>\n",
       "  </tbody>\n",
       "</table>\n",
       "</div>"
      ],
      "text/plain": [
       "   type                  title  \\\n",
       "0     0   Dick Johnson Is Dead   \n",
       "1     1          Blood & Water   \n",
       "2     1              Ganglands   \n",
       "3     1  Jailbirds New Orleans   \n",
       "4     1           Kota Factory   \n",
       "\n",
       "                                                cast        country  \\\n",
       "0                                 David Attenborough  United States   \n",
       "1  Ama Qamata, Khosi Ngema, Gail Mabalane, Thaban...   South Africa   \n",
       "2  Sami Bouajila, Tracy Gotoas, Samuel Jouy, Nabi...  United States   \n",
       "3                                 David Attenborough  United States   \n",
       "4  Mayur More, Jitendra Kumar, Ranjan Raj, Alam K...          India   \n",
       "\n",
       "   release_year                                        description  \\\n",
       "0          2020  As her father nears the end of his life, filmm...   \n",
       "1          2021  After crossing paths at a party, a Cape Town t...   \n",
       "2          2021  To protect his family from a powerful drug lor...   \n",
       "3          2021  Feuds, flirtations and toilet talk go down amo...   \n",
       "4          2021  In a city of coaching centers known to train I...   \n",
       "\n",
       "                   genre1                   genre2                  genre3  \n",
       "0           Documentaries                     None                    None  \n",
       "1  International TV Shows                TV Dramas            TV Mysteries  \n",
       "2          Crime TV Shows   International TV Shows   TV Action & Adventure  \n",
       "3              Docuseries               Reality TV                    None  \n",
       "4  International TV Shows        Romantic TV Shows             TV Comedies  "
      ]
     },
     "execution_count": 302,
     "metadata": {},
     "output_type": "execute_result"
    }
   ],
   "source": [
    "moviesTvshows['genre1'] = moviesTvshows['listed_in'].str.split(',', 2, expand = True)[0]\n",
    "moviesTvshows['genre2'] = moviesTvshows['listed_in'].str.split(',', 2, expand = True)[1]\n",
    "moviesTvshows['genre3'] = moviesTvshows['listed_in'].str.split(',', 2, expand = True)[2]\n",
    "moviesTvshows.drop(['listed_in'], axis = 1, inplace = True)\n",
    "moviesTvshows.head()"
   ]
  },
  {
   "cell_type": "code",
   "execution_count": 303,
   "id": "1acdb400",
   "metadata": {},
   "outputs": [],
   "source": [
    "moviesTvshows.iloc[:,3] = label_encoder.fit_transform(moviesTvshows.iloc[:,3])\n",
    "moviesTvshows.iloc[:,4] = label_encoder.fit_transform(moviesTvshows.iloc[:,4])\n",
    "moviesTvshows.iloc[:,6] = label_encoder.fit_transform(moviesTvshows.iloc[:,6])\n",
    "moviesTvshows.iloc[:,7] = label_encoder.fit_transform(moviesTvshows.iloc[:,7])\n",
    "moviesTvshows.iloc[:,8] = label_encoder.fit_transform(moviesTvshows.iloc[:,8])"
   ]
  },
  {
   "cell_type": "code",
   "execution_count": 304,
   "id": "e0351612",
   "metadata": {},
   "outputs": [
    {
     "data": {
      "text/html": [
       "<div>\n",
       "<style scoped>\n",
       "    .dataframe tbody tr th:only-of-type {\n",
       "        vertical-align: middle;\n",
       "    }\n",
       "\n",
       "    .dataframe tbody tr th {\n",
       "        vertical-align: top;\n",
       "    }\n",
       "\n",
       "    .dataframe thead th {\n",
       "        text-align: right;\n",
       "    }\n",
       "</style>\n",
       "<table border=\"1\" class=\"dataframe\">\n",
       "  <thead>\n",
       "    <tr style=\"text-align: right;\">\n",
       "      <th></th>\n",
       "      <th>type</th>\n",
       "      <th>title</th>\n",
       "      <th>cast</th>\n",
       "      <th>country</th>\n",
       "      <th>release_year</th>\n",
       "      <th>description</th>\n",
       "      <th>genre1</th>\n",
       "      <th>genre2</th>\n",
       "      <th>genre3</th>\n",
       "    </tr>\n",
       "  </thead>\n",
       "  <tbody>\n",
       "    <tr>\n",
       "      <th>0</th>\n",
       "      <td>0</td>\n",
       "      <td>Dick Johnson Is Dead</td>\n",
       "      <td>David Attenborough</td>\n",
       "      <td>608</td>\n",
       "      <td>74</td>\n",
       "      <td>As her father nears the end of his life, filmm...</td>\n",
       "      <td>22</td>\n",
       "      <td>75</td>\n",
       "      <td>90</td>\n",
       "    </tr>\n",
       "    <tr>\n",
       "      <th>1</th>\n",
       "      <td>1</td>\n",
       "      <td>Blood &amp; Water</td>\n",
       "      <td>Ama Qamata, Khosi Ngema, Gail Mabalane, Thaban...</td>\n",
       "      <td>430</td>\n",
       "      <td>75</td>\n",
       "      <td>After crossing paths at a party, a Cape Town t...</td>\n",
       "      <td>37</td>\n",
       "      <td>63</td>\n",
       "      <td>66</td>\n",
       "    </tr>\n",
       "    <tr>\n",
       "      <th>2</th>\n",
       "      <td>1</td>\n",
       "      <td>Ganglands</td>\n",
       "      <td>Sami Bouajila, Tracy Gotoas, Samuel Jouy, Nabi...</td>\n",
       "      <td>608</td>\n",
       "      <td>75</td>\n",
       "      <td>To protect his family from a powerful drug lor...</td>\n",
       "      <td>20</td>\n",
       "      <td>33</td>\n",
       "      <td>62</td>\n",
       "    </tr>\n",
       "    <tr>\n",
       "      <th>3</th>\n",
       "      <td>1</td>\n",
       "      <td>Jailbirds New Orleans</td>\n",
       "      <td>David Attenborough</td>\n",
       "      <td>608</td>\n",
       "      <td>75</td>\n",
       "      <td>Feuds, flirtations and toilet talk go down amo...</td>\n",
       "      <td>24</td>\n",
       "      <td>46</td>\n",
       "      <td>90</td>\n",
       "    </tr>\n",
       "    <tr>\n",
       "      <th>4</th>\n",
       "      <td>1</td>\n",
       "      <td>Kota Factory</td>\n",
       "      <td>Mayur More, Jitendra Kumar, Ranjan Raj, Alam K...</td>\n",
       "      <td>254</td>\n",
       "      <td>75</td>\n",
       "      <td>In a city of coaching centers known to train I...</td>\n",
       "      <td>37</td>\n",
       "      <td>49</td>\n",
       "      <td>63</td>\n",
       "    </tr>\n",
       "  </tbody>\n",
       "</table>\n",
       "</div>"
      ],
      "text/plain": [
       "   type                  title  \\\n",
       "0     0   Dick Johnson Is Dead   \n",
       "1     1          Blood & Water   \n",
       "2     1              Ganglands   \n",
       "3     1  Jailbirds New Orleans   \n",
       "4     1           Kota Factory   \n",
       "\n",
       "                                                cast  country  release_year  \\\n",
       "0                                 David Attenborough      608            74   \n",
       "1  Ama Qamata, Khosi Ngema, Gail Mabalane, Thaban...      430            75   \n",
       "2  Sami Bouajila, Tracy Gotoas, Samuel Jouy, Nabi...      608            75   \n",
       "3                                 David Attenborough      608            75   \n",
       "4  Mayur More, Jitendra Kumar, Ranjan Raj, Alam K...      254            75   \n",
       "\n",
       "                                         description  genre1  genre2  genre3  \n",
       "0  As her father nears the end of his life, filmm...      22      75      90  \n",
       "1  After crossing paths at a party, a Cape Town t...      37      63      66  \n",
       "2  To protect his family from a powerful drug lor...      20      33      62  \n",
       "3  Feuds, flirtations and toilet talk go down amo...      24      46      90  \n",
       "4  In a city of coaching centers known to train I...      37      49      63  "
      ]
     },
     "execution_count": 304,
     "metadata": {},
     "output_type": "execute_result"
    }
   ],
   "source": [
    "moviesTvshows.head()"
   ]
  },
  {
   "cell_type": "markdown",
   "id": "e6aa54d9",
   "metadata": {},
   "source": [
    "با استفاده از \n",
    "\n",
    "tf-idf\n",
    "\n",
    "که در آن  لزوما تکرار بالای یک کلمه ارزش ان را زیاد نمیکند"
   ]
  },
  {
   "cell_type": "code",
   "execution_count": 305,
   "id": "38b728f6",
   "metadata": {
    "scrolled": false
   },
   "outputs": [
    {
     "data": {
      "text/html": [
       "<div>\n",
       "<style scoped>\n",
       "    .dataframe tbody tr th:only-of-type {\n",
       "        vertical-align: middle;\n",
       "    }\n",
       "\n",
       "    .dataframe tbody tr th {\n",
       "        vertical-align: top;\n",
       "    }\n",
       "\n",
       "    .dataframe thead th {\n",
       "        text-align: right;\n",
       "    }\n",
       "</style>\n",
       "<table border=\"1\" class=\"dataframe\">\n",
       "  <thead>\n",
       "    <tr style=\"text-align: right;\">\n",
       "      <th></th>\n",
       "      <th>type</th>\n",
       "      <th>country</th>\n",
       "      <th>release_year</th>\n",
       "      <th>genre1</th>\n",
       "      <th>genre2</th>\n",
       "      <th>genre3</th>\n",
       "      <th>act</th>\n",
       "      <th>adventures</th>\n",
       "      <th>agent</th>\n",
       "      <th>amazon</th>\n",
       "      <th>...</th>\n",
       "      <th>sheep</th>\n",
       "      <th>short</th>\n",
       "      <th>spider</th>\n",
       "      <th>sugar</th>\n",
       "      <th>test</th>\n",
       "      <th>toys</th>\n",
       "      <th>train</th>\n",
       "      <th>transported</th>\n",
       "      <th>trucks</th>\n",
       "      <th>zoo</th>\n",
       "    </tr>\n",
       "  </thead>\n",
       "  <tbody>\n",
       "    <tr>\n",
       "      <th>0</th>\n",
       "      <td>0</td>\n",
       "      <td>608</td>\n",
       "      <td>74</td>\n",
       "      <td>22</td>\n",
       "      <td>75</td>\n",
       "      <td>90</td>\n",
       "      <td>0.0</td>\n",
       "      <td>0.0</td>\n",
       "      <td>0.0</td>\n",
       "      <td>0.0</td>\n",
       "      <td>...</td>\n",
       "      <td>0.0</td>\n",
       "      <td>0.0</td>\n",
       "      <td>0.0</td>\n",
       "      <td>0.0</td>\n",
       "      <td>0.0</td>\n",
       "      <td>0.0</td>\n",
       "      <td>0.000000</td>\n",
       "      <td>0.0</td>\n",
       "      <td>0.0</td>\n",
       "      <td>0.0</td>\n",
       "    </tr>\n",
       "    <tr>\n",
       "      <th>1</th>\n",
       "      <td>1</td>\n",
       "      <td>430</td>\n",
       "      <td>75</td>\n",
       "      <td>37</td>\n",
       "      <td>63</td>\n",
       "      <td>66</td>\n",
       "      <td>0.0</td>\n",
       "      <td>0.0</td>\n",
       "      <td>0.0</td>\n",
       "      <td>0.0</td>\n",
       "      <td>...</td>\n",
       "      <td>0.0</td>\n",
       "      <td>0.0</td>\n",
       "      <td>0.0</td>\n",
       "      <td>0.0</td>\n",
       "      <td>0.0</td>\n",
       "      <td>0.0</td>\n",
       "      <td>0.000000</td>\n",
       "      <td>0.0</td>\n",
       "      <td>0.0</td>\n",
       "      <td>0.0</td>\n",
       "    </tr>\n",
       "    <tr>\n",
       "      <th>2</th>\n",
       "      <td>1</td>\n",
       "      <td>608</td>\n",
       "      <td>75</td>\n",
       "      <td>20</td>\n",
       "      <td>33</td>\n",
       "      <td>62</td>\n",
       "      <td>0.0</td>\n",
       "      <td>0.0</td>\n",
       "      <td>0.0</td>\n",
       "      <td>0.0</td>\n",
       "      <td>...</td>\n",
       "      <td>0.0</td>\n",
       "      <td>0.0</td>\n",
       "      <td>0.0</td>\n",
       "      <td>0.0</td>\n",
       "      <td>0.0</td>\n",
       "      <td>0.0</td>\n",
       "      <td>0.000000</td>\n",
       "      <td>0.0</td>\n",
       "      <td>0.0</td>\n",
       "      <td>0.0</td>\n",
       "    </tr>\n",
       "    <tr>\n",
       "      <th>3</th>\n",
       "      <td>1</td>\n",
       "      <td>608</td>\n",
       "      <td>75</td>\n",
       "      <td>24</td>\n",
       "      <td>46</td>\n",
       "      <td>90</td>\n",
       "      <td>0.0</td>\n",
       "      <td>0.0</td>\n",
       "      <td>0.0</td>\n",
       "      <td>0.0</td>\n",
       "      <td>...</td>\n",
       "      <td>0.0</td>\n",
       "      <td>0.0</td>\n",
       "      <td>0.0</td>\n",
       "      <td>0.0</td>\n",
       "      <td>0.0</td>\n",
       "      <td>0.0</td>\n",
       "      <td>0.000000</td>\n",
       "      <td>0.0</td>\n",
       "      <td>0.0</td>\n",
       "      <td>0.0</td>\n",
       "    </tr>\n",
       "    <tr>\n",
       "      <th>4</th>\n",
       "      <td>1</td>\n",
       "      <td>254</td>\n",
       "      <td>75</td>\n",
       "      <td>37</td>\n",
       "      <td>49</td>\n",
       "      <td>63</td>\n",
       "      <td>0.0</td>\n",
       "      <td>0.0</td>\n",
       "      <td>0.0</td>\n",
       "      <td>0.0</td>\n",
       "      <td>...</td>\n",
       "      <td>0.0</td>\n",
       "      <td>0.0</td>\n",
       "      <td>0.0</td>\n",
       "      <td>0.0</td>\n",
       "      <td>0.0</td>\n",
       "      <td>0.0</td>\n",
       "      <td>0.277893</td>\n",
       "      <td>0.0</td>\n",
       "      <td>0.0</td>\n",
       "      <td>0.0</td>\n",
       "    </tr>\n",
       "  </tbody>\n",
       "</table>\n",
       "<p>5 rows × 56 columns</p>\n",
       "</div>"
      ],
      "text/plain": [
       "   type  country  release_year  genre1  genre2  genre3  act  adventures  \\\n",
       "0     0      608            74      22      75      90  0.0         0.0   \n",
       "1     1      430            75      37      63      66  0.0         0.0   \n",
       "2     1      608            75      20      33      62  0.0         0.0   \n",
       "3     1      608            75      24      46      90  0.0         0.0   \n",
       "4     1      254            75      37      49      63  0.0         0.0   \n",
       "\n",
       "   agent  amazon  ...  sheep  short  spider  sugar  test  toys     train  \\\n",
       "0    0.0     0.0  ...    0.0    0.0     0.0    0.0   0.0   0.0  0.000000   \n",
       "1    0.0     0.0  ...    0.0    0.0     0.0    0.0   0.0   0.0  0.000000   \n",
       "2    0.0     0.0  ...    0.0    0.0     0.0    0.0   0.0   0.0  0.000000   \n",
       "3    0.0     0.0  ...    0.0    0.0     0.0    0.0   0.0   0.0  0.000000   \n",
       "4    0.0     0.0  ...    0.0    0.0     0.0    0.0   0.0   0.0  0.277893   \n",
       "\n",
       "   transported  trucks  zoo  \n",
       "0          0.0     0.0  0.0  \n",
       "1          0.0     0.0  0.0  \n",
       "2          0.0     0.0  0.0  \n",
       "3          0.0     0.0  0.0  \n",
       "4          0.0     0.0  0.0  \n",
       "\n",
       "[5 rows x 56 columns]"
      ]
     },
     "execution_count": 305,
     "metadata": {},
     "output_type": "execute_result"
    }
   ],
   "source": [
    "from sklearn.feature_extraction.text import (CountVectorizer, \n",
    "                                             TfidfVectorizer,\n",
    "                                             TfidfTransformer)\n",
    "\n",
    "vectorizer = CountVectorizer(analyzer='word', \n",
    "                              token_pattern=r'\\b[a-zA-Z]{3,}\\b',  \n",
    "                              ngram_range=(1, 1) , min_df = 10 \n",
    "                              )  \n",
    "mergeDesTitle = moviesTvshows['description'] + moviesTvshows['title']\n",
    "count_vectorized = vectorizer.fit_transform(mergeDesTitle)\n",
    "tfidf_transformer = TfidfTransformer(smooth_idf=True, use_idf=True)\n",
    "vectorized = tfidf_transformer.fit_transform(count_vectorized)\n",
    "\n",
    "desTitle = pd.DataFrame(vectorized.toarray(), \n",
    "             index=['sentence '+str(i) \n",
    "                    for i in range(1, 1+len(mergeDesTitle))],\n",
    "             columns=vectorizer.get_feature_names())\n",
    "\n",
    "desTitleFeatures = []\n",
    "for i in range(len(desTitle.columns)):\n",
    "    maxVal = desTitle.iloc[:, i].max()\n",
    "    if (maxVal > 0.735):\n",
    "        if (desTitle.iloc[0, i] not in desTitleFeatures):\n",
    "            desTitleFeatures.append(desTitle.columns[i])\n",
    "desTitle.loc[:, desTitleFeatures]\n",
    "\n",
    "feature_df = moviesTvshows.copy()\n",
    "feature_df.drop(['description', 'title','cast'], axis = 1, inplace = True)\n",
    "feature_df = feature_df.join(desTitle.loc[:, desTitleFeatures].reset_index(drop = True))\n",
    "feature_df.head()"
   ]
  },
  {
   "cell_type": "markdown",
   "id": "e73a5ab5",
   "metadata": {},
   "source": [
    "با استفاده از\n",
    "\n",
    "count vectorize\n",
    "\n",
    "که اگر آن کلمه در آن سطر وجود داشته باشد ستون متناظرش را یک قرار میدهد."
   ]
  },
  {
   "cell_type": "code",
   "execution_count": 306,
   "id": "aa197211",
   "metadata": {
    "scrolled": true
   },
   "outputs": [
    {
     "data": {
      "text/html": [
       "<div>\n",
       "<style scoped>\n",
       "    .dataframe tbody tr th:only-of-type {\n",
       "        vertical-align: middle;\n",
       "    }\n",
       "\n",
       "    .dataframe tbody tr th {\n",
       "        vertical-align: top;\n",
       "    }\n",
       "\n",
       "    .dataframe thead th {\n",
       "        text-align: right;\n",
       "    }\n",
       "</style>\n",
       "<table border=\"1\" class=\"dataframe\">\n",
       "  <thead>\n",
       "    <tr style=\"text-align: right;\">\n",
       "      <th></th>\n",
       "      <th>type</th>\n",
       "      <th>country</th>\n",
       "      <th>release_year</th>\n",
       "      <th>genre1</th>\n",
       "      <th>genre2</th>\n",
       "      <th>genre3</th>\n",
       "      <th>act</th>\n",
       "      <th>adventures</th>\n",
       "      <th>agent</th>\n",
       "      <th>amazon</th>\n",
       "      <th>...</th>\n",
       "      <th>anupam kher</th>\n",
       "      <th>david attenborough</th>\n",
       "      <th>juan pablo</th>\n",
       "      <th>julie tejwani</th>\n",
       "      <th>naseeruddin shah</th>\n",
       "      <th>rukh khan</th>\n",
       "      <th>rupa bhimani</th>\n",
       "      <th>shah rukh</th>\n",
       "      <th>takahiro sakurai</th>\n",
       "      <th>yuki kaji</th>\n",
       "    </tr>\n",
       "  </thead>\n",
       "  <tbody>\n",
       "    <tr>\n",
       "      <th>0</th>\n",
       "      <td>0</td>\n",
       "      <td>608</td>\n",
       "      <td>74</td>\n",
       "      <td>22</td>\n",
       "      <td>75</td>\n",
       "      <td>90</td>\n",
       "      <td>0.0</td>\n",
       "      <td>0.0</td>\n",
       "      <td>0.0</td>\n",
       "      <td>0.0</td>\n",
       "      <td>...</td>\n",
       "      <td>0</td>\n",
       "      <td>1</td>\n",
       "      <td>0</td>\n",
       "      <td>0</td>\n",
       "      <td>0</td>\n",
       "      <td>0</td>\n",
       "      <td>0</td>\n",
       "      <td>0</td>\n",
       "      <td>0</td>\n",
       "      <td>0</td>\n",
       "    </tr>\n",
       "    <tr>\n",
       "      <th>1</th>\n",
       "      <td>1</td>\n",
       "      <td>430</td>\n",
       "      <td>75</td>\n",
       "      <td>37</td>\n",
       "      <td>63</td>\n",
       "      <td>66</td>\n",
       "      <td>0.0</td>\n",
       "      <td>0.0</td>\n",
       "      <td>0.0</td>\n",
       "      <td>0.0</td>\n",
       "      <td>...</td>\n",
       "      <td>0</td>\n",
       "      <td>0</td>\n",
       "      <td>0</td>\n",
       "      <td>0</td>\n",
       "      <td>0</td>\n",
       "      <td>0</td>\n",
       "      <td>0</td>\n",
       "      <td>0</td>\n",
       "      <td>0</td>\n",
       "      <td>0</td>\n",
       "    </tr>\n",
       "    <tr>\n",
       "      <th>2</th>\n",
       "      <td>1</td>\n",
       "      <td>608</td>\n",
       "      <td>75</td>\n",
       "      <td>20</td>\n",
       "      <td>33</td>\n",
       "      <td>62</td>\n",
       "      <td>0.0</td>\n",
       "      <td>0.0</td>\n",
       "      <td>0.0</td>\n",
       "      <td>0.0</td>\n",
       "      <td>...</td>\n",
       "      <td>0</td>\n",
       "      <td>0</td>\n",
       "      <td>0</td>\n",
       "      <td>0</td>\n",
       "      <td>0</td>\n",
       "      <td>0</td>\n",
       "      <td>0</td>\n",
       "      <td>0</td>\n",
       "      <td>0</td>\n",
       "      <td>0</td>\n",
       "    </tr>\n",
       "    <tr>\n",
       "      <th>3</th>\n",
       "      <td>1</td>\n",
       "      <td>608</td>\n",
       "      <td>75</td>\n",
       "      <td>24</td>\n",
       "      <td>46</td>\n",
       "      <td>90</td>\n",
       "      <td>0.0</td>\n",
       "      <td>0.0</td>\n",
       "      <td>0.0</td>\n",
       "      <td>0.0</td>\n",
       "      <td>...</td>\n",
       "      <td>0</td>\n",
       "      <td>1</td>\n",
       "      <td>0</td>\n",
       "      <td>0</td>\n",
       "      <td>0</td>\n",
       "      <td>0</td>\n",
       "      <td>0</td>\n",
       "      <td>0</td>\n",
       "      <td>0</td>\n",
       "      <td>0</td>\n",
       "    </tr>\n",
       "    <tr>\n",
       "      <th>4</th>\n",
       "      <td>1</td>\n",
       "      <td>254</td>\n",
       "      <td>75</td>\n",
       "      <td>37</td>\n",
       "      <td>49</td>\n",
       "      <td>63</td>\n",
       "      <td>0.0</td>\n",
       "      <td>0.0</td>\n",
       "      <td>0.0</td>\n",
       "      <td>0.0</td>\n",
       "      <td>...</td>\n",
       "      <td>0</td>\n",
       "      <td>0</td>\n",
       "      <td>0</td>\n",
       "      <td>0</td>\n",
       "      <td>0</td>\n",
       "      <td>0</td>\n",
       "      <td>0</td>\n",
       "      <td>0</td>\n",
       "      <td>0</td>\n",
       "      <td>0</td>\n",
       "    </tr>\n",
       "  </tbody>\n",
       "</table>\n",
       "<p>5 rows × 66 columns</p>\n",
       "</div>"
      ],
      "text/plain": [
       "   type  country  release_year  genre1  genre2  genre3  act  adventures  \\\n",
       "0     0      608            74      22      75      90  0.0         0.0   \n",
       "1     1      430            75      37      63      66  0.0         0.0   \n",
       "2     1      608            75      20      33      62  0.0         0.0   \n",
       "3     1      608            75      24      46      90  0.0         0.0   \n",
       "4     1      254            75      37      49      63  0.0         0.0   \n",
       "\n",
       "   agent  amazon  ...  anupam kher  david attenborough  juan pablo  \\\n",
       "0    0.0     0.0  ...            0                   1           0   \n",
       "1    0.0     0.0  ...            0                   0           0   \n",
       "2    0.0     0.0  ...            0                   0           0   \n",
       "3    0.0     0.0  ...            0                   1           0   \n",
       "4    0.0     0.0  ...            0                   0           0   \n",
       "\n",
       "   julie tejwani  naseeruddin shah  rukh khan  rupa bhimani  shah rukh  \\\n",
       "0              0                 0          0             0          0   \n",
       "1              0                 0          0             0          0   \n",
       "2              0                 0          0             0          0   \n",
       "3              0                 0          0             0          0   \n",
       "4              0                 0          0             0          0   \n",
       "\n",
       "   takahiro sakurai  yuki kaji  \n",
       "0                 0          0  \n",
       "1                 0          0  \n",
       "2                 0          0  \n",
       "3                 0          0  \n",
       "4                 0          0  \n",
       "\n",
       "[5 rows x 66 columns]"
      ]
     },
     "execution_count": 306,
     "metadata": {},
     "output_type": "execute_result"
    }
   ],
   "source": [
    "vectorizer = CountVectorizer(analyzer='word', \n",
    "                              token_pattern=r'\\b[a-zA-Z]{3,}\\b',  \n",
    "                              ngram_range=(2, 2), min_df = 10 , max_features = 10 )\n",
    "vectorized = vectorizer.fit_transform(moviesTvshows['cast'])\n",
    "actors = pd.DataFrame(vectorized.toarray(), \n",
    "             index=['sentence '+str(i) \n",
    "                    for i in range(1, 1+len(moviesTvshows['cast']))],\n",
    "             columns=vectorizer.get_feature_names())\n",
    "actors\n",
    "feature_df = feature_df.join(actors.reset_index(drop = True))\n",
    "feature_df.head()"
   ]
  },
  {
   "cell_type": "markdown",
   "id": "076ccdd6",
   "metadata": {},
   "source": [
    "بررسی روابط بین ویژگی ها"
   ]
  },
  {
   "cell_type": "code",
   "execution_count": 307,
   "id": "81e2e458",
   "metadata": {},
   "outputs": [
    {
     "data": {
      "image/png": "[encoded data removed]",
      "text/plain": [
       "<Figure size 1440x288 with 1 Axes>"
      ]
     },
     "metadata": {
      "needs_background": "light"
     },
     "output_type": "display_data"
    }
   ],
   "source": [
    "target = feature_df['type']\n",
    "# infoGain = mutual_info_classif(feature_df, target)\n",
    "infoGain = pd.Series(mutual_info_classif(feature_df.iloc[:,1:], target))\n",
    "infoGain.index = feature_df.columns[1:]\n",
    "infoGain.sort_values(ascending=False).plot.bar(figsize=(20, 4))\n",
    "plt.title('information gain base on features ')\n",
    "plt.xlabel('features')\n",
    "plt.ylabel('gain');"
   ]
  },
  {
   "cell_type": "markdown",
   "id": "6fa8ef10",
   "metadata": {},
   "source": [
    "همنطور که مشخص است ژانر یک از همه بهتر است و به ترتیب بعد از آن ژانر 2و 3 و کشور ویژگی های بهتری هستند."
   ]
  },
  {
   "cell_type": "markdown",
   "id": "6322b4bb",
   "metadata": {},
   "source": [
    "فاز دوم"
   ]
  },
  {
   "cell_type": "code",
   "execution_count": 308,
   "id": "0ff48723",
   "metadata": {},
   "outputs": [
    {
     "name": "stdout",
     "output_type": "stream",
     "text": [
      "0.9931539229504345\n",
      "{'max_depth': 40, 'min_samples_split': 2}\n"
     ]
    }
   ],
   "source": [
    "def fineBestHyper(target):\n",
    "    X_train, X_test, y_train, y_test = train_test_split(feature_df.iloc[:, 1:], target, test_size = 0.3, random_state = 1)\n",
    "    clf = GridSearchCV(DecisionTreeClassifier(),\n",
    "                      {'min_samples_split': np.arange(2, 3, 4),\n",
    "                      'max_depth':[5, 10, 20, 30, 40, 50]},\n",
    "                      cv = 4, return_train_score = False, scoring = 'accuracy')\n",
    "    clf = clf.fit(X_train,y_train)\n",
    "    pd.DataFrame(clf.cv_results_).head(10)\n",
    "    accuracy = clf.best_score_\n",
    "    print(accuracy)\n",
    "    print (clf.best_params_)\n",
    "fineBestHyper(feature_df[['type']])\n",
    "    "
   ]
  },
  {
   "cell_type": "code",
   "execution_count": 309,
   "id": "995a202f",
   "metadata": {},
   "outputs": [
    {
     "name": "stdout",
     "output_type": "stream",
     "text": [
      "Accuracy: 0.995177817962628\n",
      "Accuracy: 1.0\n"
     ]
    }
   ],
   "source": [
    "x = feature_df.iloc[:, 1:]\n",
    "y = feature_df[['type']]\n",
    "X_train, X_test, y_train, y_test = train_test_split(x, y, test_size = 0.3, random_state = 1)\n",
    "clf = DecisionTreeClassifier()\n",
    "clf = clf.fit(X_train,y_train)\n",
    "y_pred = clf.predict(X_test)\n",
    "ytrain_pred = clf.predict(X_train)\n",
    "print(\"Accuracy:\",metrics.accuracy_score(y_test, y_pred))\n",
    "print(\"Accuracy:\",metrics.accuracy_score(y_train, ytrain_pred))"
   ]
  },
  {
   "cell_type": "markdown",
   "id": "1c69524c",
   "metadata": {},
   "source": [
    "داده ها به نسبت 70 به 30 به ترین و تست تقسیم بندی شده اند و چون مدل بر اساس داده ترین است و خیلی خوب فیت شده است اکیوریسی تایپ پیش بینی شده برای آن یک است "
   ]
  },
  {
   "cell_type": "code",
   "execution_count": 310,
   "id": "370de0ca",
   "metadata": {},
   "outputs": [
    {
     "name": "stdout",
     "output_type": "stream",
     "text": [
      "[[1796   10]\n",
      " [   6 1506]]\n",
      "[[4325    0]\n",
      " [   0 3416]]\n"
     ]
    }
   ],
   "source": [
    "print(confusion_matrix(y_test, y_pred))\n",
    "print(confusion_matrix(y_train, ytrain_pred))"
   ]
  },
  {
   "cell_type": "markdown",
   "id": "bc5eb06a",
   "metadata": {},
   "source": [
    "برای نسبت سایز 70 به 30 تخمین داده ی تست 1796+1506 تا درست تشخیص داده شده است و 6+10 تا اشتباه و برای داده ترین همه درست تشخیص داده شده اند."
   ]
  },
  {
   "cell_type": "code",
   "execution_count": 311,
   "id": "434a6fe8",
   "metadata": {},
   "outputs": [
    {
     "name": "stdout",
     "output_type": "stream",
     "text": [
      "Accuracy: 0.9864864864864865\n",
      "Accuracy: 1.0\n"
     ]
    }
   ],
   "source": [
    "X_train, X_test, y_train, y_test = train_test_split(x, y, test_size = 0.02, random_state = 1)\n",
    "clf = clf.fit(X_train,y_train)\n",
    "ytrain_pred = clf.predict(X_train)\n",
    "y_pred = clf.predict(X_test)\n",
    "print(\"Accuracy:\",metrics.accuracy_score(y_test, y_pred))\n",
    "print(\"Accuracy:\",metrics.accuracy_score(y_train, ytrain_pred))"
   ]
  },
  {
   "cell_type": "markdown",
   "id": "80625ea8",
   "metadata": {},
   "source": [
    "داده ها به نسبت 98 به 2 به ترین و تست تقسیم بندی شده اند و میدانیم این کار میتواند منجر به \n",
    "\n",
    "overfitting  \n",
    "\n",
    "شود. اما اینجا این اتفاق نیافتاده است زیرا همچنین دقت مان بالاست."
   ]
  },
  {
   "cell_type": "code",
   "execution_count": 312,
   "id": "2fa624c3",
   "metadata": {},
   "outputs": [
    {
     "name": "stdout",
     "output_type": "stream",
     "text": [
      "[[122   1]\n",
      " [  2  97]]\n",
      "[[6008    0]\n",
      " [   0 4829]]\n"
     ]
    }
   ],
   "source": [
    "print(confusion_matrix(y_test, y_pred))\n",
    "print(confusion_matrix(y_train, ytrain_pred))"
   ]
  },
  {
   "cell_type": "code",
   "execution_count": 313,
   "id": "4ee4edf2",
   "metadata": {},
   "outputs": [
    {
     "name": "stdout",
     "output_type": "stream",
     "text": [
      "Accuracy: 0.977195097448262\n",
      "Accuracy: 1.0\n"
     ]
    }
   ],
   "source": [
    "X_train, X_test, y_train, y_test = train_test_split(x, y, test_size = 0.9, random_state = 1)\n",
    "clf = clf.fit(X_train,y_train)\n",
    "ytrain_pred = clf.predict(X_train)\n",
    "y_pred = clf.predict(X_test)\n",
    "print(\"Accuracy:\",metrics.accuracy_score(y_test, y_pred))\n",
    "print(\"Accuracy:\",metrics.accuracy_score(y_train, ytrain_pred))"
   ]
  },
  {
   "cell_type": "markdown",
   "id": "556f1999",
   "metadata": {},
   "source": [
    "داده ها به نسبت 10 به 90 به ترین و تست تقسیم بندی شده اند و میدانیم این کار میتواند منجر به \n",
    "\n",
    "underfitting  \n",
    "\n",
    "شود. اما اینجا این اتفاق نیافتاده است زیرا همچنین دقت مان بالاست."
   ]
  },
  {
   "cell_type": "code",
   "execution_count": 314,
   "id": "3ebc551e",
   "metadata": {},
   "outputs": [
    {
     "name": "stdout",
     "output_type": "stream",
     "text": [
      "[[5445   96]\n",
      " [ 131 4282]]\n",
      "[[590   0]\n",
      " [  0 515]]\n"
     ]
    }
   ],
   "source": [
    "print(confusion_matrix(y_test, y_pred))\n",
    "print(confusion_matrix(y_train, ytrain_pred))"
   ]
  },
  {
   "cell_type": "markdown",
   "id": "91f2b460",
   "metadata": {},
   "source": [
    "**2**"
   ]
  },
  {
   "cell_type": "markdown",
   "id": "485120ac",
   "metadata": {},
   "source": [
    "Max depth: حداکثر عمق درخت را نشان میدهد.  \n",
    "\n",
    "Min sample split: تعداد نمونه هایی که نیاز داریم تا یک نود داخلی درخت بتواند به زیر شاخه ها تقسیم شود. این مقدار به صورت پیش فرض برابر ۲ است."
   ]
  },
  {
   "cell_type": "code",
   "execution_count": 316,
   "id": "9e5f1b06",
   "metadata": {
    "scrolled": true
   },
   "outputs": [
    {
     "name": "stdout",
     "output_type": "stream",
     "text": [
      "Max depth is  3 and Accuracy: 0.8004822182037372\n",
      "Max depth is  3 and Accuracy: 0.8146234336649012\n",
      "________________\n",
      "Max depth is  7 and Accuracy: 0.9526823387582881\n",
      "Max depth is  7 and Accuracy: 0.9460018085518667\n",
      "________________\n",
      "Max depth is  12 and Accuracy: 0.9945750452079566\n",
      "Max depth is  12 and Accuracy: 0.9996124531714249\n",
      "________________\n",
      "Max depth is  15 and Accuracy: 0.9945750452079566\n",
      "Max depth is  15 and Accuracy: 1.0\n",
      "________________\n",
      "Max depth is  17 and Accuracy: 0.995177817962628\n",
      "Max depth is  17 and Accuracy: 1.0\n",
      "________________\n",
      "Max depth is  30 and Accuracy: 0.9948764315852924\n",
      "Max depth is  30 and Accuracy: 1.0\n",
      "________________\n",
      "Max depth is  40 and Accuracy: 0.995177817962628\n",
      "Max depth is  40 and Accuracy: 1.0\n",
      "________________\n",
      "Max depth is  50 and Accuracy: 0.995177817962628\n",
      "Max depth is  50 and Accuracy: 1.0\n",
      "________________\n"
     ]
    }
   ],
   "source": [
    "X_train, X_test, y_train, y_test = train_test_split(x, y, test_size = 0.3, random_state = 1)\n",
    "clf = clf.fit(X_train,y_train)\n",
    "maxDepth = [3, 7, 12, 15, 17, 30, 40, 50]\n",
    "accuListTest = list()\n",
    "accuListTrain = list()\n",
    "for m in maxDepth:\n",
    "    clf = DecisionTreeClassifier(max_depth = m)\n",
    "    clf = clf.fit(X_train,y_train)\n",
    "    ytrain_pred = clf.predict(X_train)\n",
    "    y_pred = clf.predict(X_test)\n",
    "    accuListTest.append (metrics.accuracy_score(y_test, y_pred))\n",
    "    accuListTrain.append (metrics.accuracy_score(y_train, ytrain_pred))\n",
    "    print(\"Max depth is \", m ,\"and Accuracy:\",metrics.accuracy_score(y_test, y_pred))\n",
    "    print(\"Max depth is \", m ,\"and Accuracy:\",metrics.accuracy_score(y_train, ytrain_pred))\n",
    "    print(\"________________\")"
   ]
  },
  {
   "cell_type": "code",
   "execution_count": 317,
   "id": "809059aa",
   "metadata": {
    "scrolled": true
   },
   "outputs": [
    {
     "data": {
      "image/png": "[encoded data removed]",
      "text/plain": [
       "<Figure size 432x288 with 1 Axes>"
      ]
     },
     "metadata": {
      "needs_background": "light"
     },
     "output_type": "display_data"
    }
   ],
   "source": [
    "plt.plot(maxDepth, accuListTest)\n",
    "plt.plot(maxDepth, accuListTrain)\n",
    "plt.legend(['test', 'train'])\n",
    "plt.xlabel('maxDepth')\n",
    "plt.ylabel('accuracy')\n",
    "plt.title('accuracy based on test and train data');"
   ]
  },
  {
   "cell_type": "markdown",
   "id": "35a175a6",
   "metadata": {},
   "source": [
    "همانطور که در دو نمودار زیر مشخص است، با افزایش عمق خطا کاهش پیدا میکند اما زمانی که عمق از یک مقداری بیشتر شود باعث افزایش خطا میشود."
   ]
  },
  {
   "cell_type": "code",
   "execution_count": 318,
   "id": "6331b144",
   "metadata": {},
   "outputs": [
    {
     "name": "stdout",
     "output_type": "stream",
     "text": [
      "[[1319  487]\n",
      " [ 175 1337]]\n",
      "[[3248 1077]\n",
      " [ 358 3058]]\n",
      "------------\n",
      "[[1795   11]\n",
      " [   6 1506]]\n",
      "[[4324    1]\n",
      " [   2 3414]]\n",
      "------------\n",
      "[[1795   11]\n",
      " [   6 1506]]\n",
      "[[4325    0]\n",
      " [   0 3416]]\n",
      "------------\n"
     ]
    }
   ],
   "source": [
    "maxDepth = [3, 12, 40]\n",
    "for m in maxDepth:\n",
    "    clf = DecisionTreeClassifier(max_depth = m)\n",
    "    clf = clf.fit(X_train,y_train)\n",
    "    ytrain_pred = clf.predict(X_train)\n",
    "    y_pred = clf.predict(X_test)\n",
    "    print(confusion_matrix(y_test, y_pred))\n",
    "    print(confusion_matrix(y_train, ytrain_pred))\n",
    "    print('------------')"
   ]
  },
  {
   "cell_type": "markdown",
   "id": "7ffcbc74",
   "metadata": {},
   "source": [
    "فاز سوم"
   ]
  },
  {
   "cell_type": "code",
   "execution_count": 319,
   "id": "d7ac61a1",
   "metadata": {},
   "outputs": [
    {
     "name": "stderr",
     "output_type": "stream",
     "text": [
      "<ipython-input-319-286dd0911a33>:3: DataConversionWarning: A column-vector y was passed when a 1d array was expected. Please change the shape of y to (n_samples,), for example using ravel().\n",
      "  clf = clf.fit(X_train,y_train)\n"
     ]
    },
    {
     "name": "stdout",
     "output_type": "stream",
     "text": [
      "Accuracy: 0.9849306811332128\n"
     ]
    }
   ],
   "source": [
    "X_train, X_test, y_train, y_test = train_test_split(x, y, test_size = 0.3, random_state = 1)\n",
    "clf = RandomForestClassifier( random_state=1)\n",
    "clf = clf.fit(X_train,y_train)\n",
    "y_pred = clf.predict(X_test)\n",
    "print(\"Accuracy:\",metrics.accuracy_score(y_test, y_pred))"
   ]
  },
  {
   "cell_type": "markdown",
   "id": "590eb91d",
   "metadata": {},
   "source": [
    "واریانس در یک مدل تجمیعی بهتر عمل میکند اما بایاس تفاوتی نمیکند در هرحال  در اینجا چون اکیوریسی بالاست این تفاوت مشهود نیست. "
   ]
  }
 ],
 "metadata": {
  "hide_input": false,
  "kernelspec": {
   "display_name": "Python 3",
   "language": "python",
   "name": "python3"
  }
 },
 "nbformat": 4,
 "nbformat_minor": 5
}
